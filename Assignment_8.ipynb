{
  "nbformat": 4,
  "nbformat_minor": 0,
  "metadata": {
    "colab": {
      "provenance": [],
      "authorship_tag": "ABX9TyO7L/LXpYTdnxFgUYzmcayv",
      "include_colab_link": true
    },
    "kernelspec": {
      "name": "python3",
      "display_name": "Python 3"
    },
    "language_info": {
      "name": "python"
    }
  },
  "cells": [
    {
      "cell_type": "markdown",
      "metadata": {
        "id": "view-in-github",
        "colab_type": "text"
      },
      "source": [
        "<a href=\"https://colab.research.google.com/github/ChityalaRahul/23CSBTB39-40/blob/main/Assignment_8.ipynb\" target=\"_parent\"><img src=\"https://colab.research.google.com/assets/colab-badge.svg\" alt=\"Open In Colab\"/></a>"
      ]
    },
    {
      "cell_type": "code",
      "execution_count": 1,
      "metadata": {
        "colab": {
          "base_uri": "https://localhost:8080/"
        },
        "id": "vB9aMatdOAcs",
        "outputId": "f6021017-7a84-4099-956e-5ceb6f97c24a"
      },
      "outputs": [
        {
          "output_type": "stream",
          "name": "stdout",
          "text": [
            "First 5 rows of the dataset:\n",
            "   credit.policy  int.rate  installment  log.annual.inc   dti  fico  \\\n",
            "0              1     0.085        300.0            10.5  15.2   720   \n",
            "1              1     0.095        450.0            11.2  18.4   690   \n",
            "2              0     0.120        200.0             9.8  25.6   650   \n",
            "3              1     0.075        350.0            10.9  12.3   740   \n",
            "4              1     0.100        500.0            11.5  20.1   710   \n",
            "\n",
            "   days.with.cr.line  revol.bal  revol.util  loan_repaid             purpose  \n",
            "0               1200       1500        0.30            1  debt_consolidation  \n",
            "1                800       2000        0.40            1    home_improvement  \n",
            "2                400       1000        0.50            0            personal  \n",
            "3               1500       1200        0.20            1  debt_consolidation  \n",
            "4                600       1800        0.35            1             wedding  \n",
            "\n",
            "Data Types of Each Feature:\n",
            "credit.policy          int64\n",
            "int.rate             float64\n",
            "installment          float64\n",
            "log.annual.inc       float64\n",
            "dti                  float64\n",
            "fico                   int64\n",
            "days.with.cr.line      int64\n",
            "revol.bal              int64\n",
            "revol.util           float64\n",
            "loan_repaid            int64\n",
            "purpose               object\n",
            "dtype: object\n",
            "\n",
            "Summary Statistics:\n",
            "       credit.policy  int.rate  installment  log.annual.inc        dti  \\\n",
            "count        8.00000  8.000000      8.00000          8.0000   8.000000   \n",
            "mean         0.75000  0.101875    331.87500         10.6375  20.037500   \n",
            "std          0.46291  0.020863    114.57803          0.7891   5.955775   \n",
            "min          0.00000  0.075000    180.00000          9.2000  12.300000   \n",
            "25%          0.75000  0.088750    256.25000         10.3250  15.650000   \n",
            "50%          1.00000  0.097500    325.00000         10.8000  19.250000   \n",
            "75%          1.00000  0.112500    412.50000         11.2250  23.275000   \n",
            "max          1.00000  0.140000    500.00000         11.5000  30.400000   \n",
            "\n",
            "             fico  days.with.cr.line    revol.bal  revol.util  loan_repaid  \n",
            "count    8.000000           8.000000     8.000000    8.000000      8.00000  \n",
            "mean   692.500000         812.500000  1387.500000    0.381250      0.75000  \n",
            "std     41.317585         405.101398   397.986001    0.133463      0.46291  \n",
            "min    620.000000         300.000000   900.000000    0.200000      0.00000  \n",
            "25%    672.500000         550.000000  1075.000000    0.287500      0.75000  \n",
            "50%    700.000000         750.000000  1350.000000    0.375000      1.00000  \n",
            "75%    722.500000        1050.000000  1650.000000    0.462500      1.00000  \n",
            "max    740.000000        1500.000000  2000.000000    0.600000      1.00000  \n",
            "\n",
            "Columns in the dataset:\n",
            "['credit.policy', 'int.rate', 'installment', 'log.annual.inc', 'dti', 'fico', 'days.with.cr.line', 'revol.bal', 'revol.util', 'loan_repaid', 'purpose']\n",
            "\n",
            "Features considered for prediction:\n",
            "['credit.policy', 'int.rate', 'installment', 'log.annual.inc', 'dti', 'fico', 'days.with.cr.line', 'revol.bal', 'revol.util']\n"
          ]
        }
      ],
      "source": [
        "# 1. Import Required Libraries\n",
        "import pandas as pd\n",
        "import matplotlib.pyplot as plt\n",
        "import seaborn as sns\n",
        "\n",
        "# 2. Load the Lending Data\n",
        "data = pd.read_csv('lending_data.csv')\n",
        "\n",
        "# 3. Display Basic Information about the Dataset\n",
        "print(\"First 5 rows of the dataset:\")\n",
        "print(data.head())\n",
        "\n",
        "print(\"\\nData Types of Each Feature:\")\n",
        "print(data.dtypes)\n",
        "\n",
        "print(\"\\nSummary Statistics:\")\n",
        "print(data.describe())\n",
        "\n",
        "print(\"\\nColumns in the dataset:\")\n",
        "print(data.columns.tolist())\n",
        "\n",
        "# List of features used for prediction\n",
        "features = [\n",
        "    'credit.policy',\n",
        "    'int.rate',\n",
        "    'installment',\n",
        "    'log.annual.inc',\n",
        "    'dti',\n",
        "    'fico',\n",
        "    'days.with.cr.line',\n",
        "    'revol.bal',\n",
        "    'revol.util'\n",
        "]\n",
        "print(\"\\nFeatures considered for prediction:\")\n",
        "print(features)\n"
      ]
    },
    {
      "cell_type": "markdown",
      "source": [],
      "metadata": {
        "id": "G2SZu21ZOcKv"
      }
    },
    {
      "cell_type": "code",
      "source": [
        "import pandas as pd\n",
        "import seaborn as sns\n",
        "import matplotlib.pyplot as plt\n",
        "\n",
        "# 1. Load the cleaned dataset\n",
        "data = pd.read_csv('lending_data.csv')\n",
        "\n",
        "# 2. Check the data types of each feature\n",
        "data_types = data.dtypes\n",
        "print(\"Data Types of Each Feature:\")\n",
        "print(data_types)\n",
        "\n",
        "# 3. Generate summary statistics\n",
        "summary_stats = data.describe(percentiles=[.25, .5, .75, .90])\n",
        "print(\"Summary Statistics:\")\n",
        "print(summary_stats)\n",
        "\n",
        "# 4. List the names of columns/features in the dataset\n",
        "column_names = data.columns.tolist()\n",
        "print(\"Column Names:\")\n",
        "print(column_names)\n",
        "\n",
        "# 5. Display the count of credit approvals\n",
        "credit_approvals_count = data['loan_repaid'].value_counts()\n",
        "print(\"Count of Credit Approvals:\")\n",
        "print(credit_approvals_count)\n",
        "\n",
        "# 6. Generate lmplot to verify trends between not fully paid and credit policy\n",
        "sns.lmplot(data=data, x='int.rate', y='fico', hue='loan_repaid',\n",
        "           markers=[\"o\", \"x\"], palette='coolwarm', height=6)\n",
        "plt.title('Credit Policy vs FICO Score')\n",
        "plt.xlabel('Interest Rate')\n",
        "plt.ylabel('FICO Score')\n",
        "plt.show()\n"
      ],
      "metadata": {
        "id": "b-7lCDa1OcU2"
      },
      "execution_count": null,
      "outputs": []
    },
    {
      "cell_type": "markdown",
      "source": [],
      "metadata": {
        "id": "K_zONhx7OeYk"
      }
    },
    {
      "cell_type": "code",
      "source": [
        "import pandas as pd\n",
        "from sklearn.model_selection import train_test_split\n",
        "from sklearn.ensemble import RandomForestClassifier\n",
        "from sklearn.metrics import classification_report\n",
        "\n",
        "# 1. Load the cleaned dataset\n",
        "data = pd.read_csv('lending_data.csv')\n",
        "\n",
        "# 2. Create dummy variables for the 'purpose' feature\n",
        "data = pd.get_dummies(data, columns=['purpose'], drop_first=True)\n",
        "\n",
        "# 3. Select features and target variable\n",
        "features = data.drop('loan_repaid', axis=1)  # Assuming 'loan_repaid' is the target\n",
        "target = data['loan_repaid']\n",
        "\n",
        "# 4. Split the data into training and testing sets\n",
        "X_train, X_test, y_train, y_test = train_test_split(features, target, test_size=0.2, random_state=42)\n",
        "\n",
        "# 5. Initialize and fit the Random Forest Classifier\n",
        "rf_model = RandomForestClassifier(n_estimators=100, random_state=42)\n",
        "rf_model.fit(X_train, y_train)\n",
        "\n",
        "# 6. Make predictions and print classification report\n",
        "y_pred = rf_model.predict(X_test)\n",
        "print(classification_report(y_test, y_pred))\n"
      ],
      "metadata": {
        "id": "WNqLbshvOemH"
      },
      "execution_count": null,
      "outputs": []
    },
    {
      "cell_type": "markdown",
      "source": [],
      "metadata": {
        "id": "3VuCBnoIOkAp"
      }
    },
    {
      "cell_type": "code",
      "source": [
        "import pandas as pd\n",
        "from sklearn.model_selection import train_test_split\n",
        "from sklearn.ensemble import RandomForestClassifier\n",
        "from sklearn.metrics import classification_report, confusion_matrix\n",
        "\n",
        "# 1. Load the cleaned dataset\n",
        "data = pd.read_csv('lending_data.csv')\n",
        "\n",
        "# Create dummy variables for the 'purpose' feature\n",
        "data = pd.get_dummies(data, columns=['purpose'], drop_first=True)\n",
        "\n",
        "# 2. Prepare features (X) and target (y)\n",
        "X = data.drop('loan_repaid', axis=1)  # Features\n",
        "y = data['loan_repaid']  # Target variable\n",
        "\n",
        "# Split the data into training and testing sets\n",
        "X_train, X_test, y_train, y_test = train_test_split(X, y, test_size=0.2, random_state=42)\n",
        "\n",
        "# 3. Initialize the Random Forest Classifier\n",
        "rf_model = RandomForestClassifier(n_estimators=100, random_state=42)\n",
        "\n",
        "# 4. Fit the model to the training data\n",
        "rf_model.fit(X_train, y_train)\n",
        "\n",
        "# Optional: Make predictions and evaluate the model\n",
        "y_pred = rf_model.predict(X_test)\n",
        "\n",
        "# Print evaluation metrics\n",
        "print(\"Confusion Matrix:\")\n",
        "print(confusion_matrix(y_test, y_pred))\n",
        "\n",
        "print(\"\\nClassification Report:\")\n",
        "print(classification_report(y_test, y_pred))\n"
      ],
      "metadata": {
        "id": "QiQIyONCOkOS"
      },
      "execution_count": null,
      "outputs": []
    },
    {
      "cell_type": "markdown",
      "source": [],
      "metadata": {
        "id": "PMMwFXZZOmcG"
      }
    },
    {
      "cell_type": "code",
      "source": [
        "import pandas as pd\n",
        "from sklearn.model_selection import train_test_split\n",
        "from sklearn.ensemble import RandomForestClassifier\n",
        "from sklearn.metrics import classification_report, confusion_matrix\n",
        "import seaborn as sns\n",
        "import matplotlib.pyplot as plt\n",
        "\n",
        "# Load the cleaned dataset\n",
        "data = pd.read_csv('lending_data.csv')\n",
        "\n",
        "# Create dummy variables for the 'purpose' feature\n",
        "data = pd.get_dummies(data, columns=['purpose'], drop_first=True)\n",
        "\n",
        "# Prepare features (X) and target (y)\n",
        "X = data.drop('loan_repaid', axis=1)  # Features\n",
        "y = data['loan_repaid']  # Target variable\n",
        "\n",
        "# Split the data into training and testing sets\n",
        "X_train, X_test, y_train, y_test = train_test_split(X, y, test_size=0.2, random_state=42)\n",
        "\n",
        "# Initialize and fit the Random Forest Classifier\n",
        "rf_model = RandomForestClassifier(n_estimators=100, random_state=42)\n",
        "rf_model.fit(X_train, y_train)\n",
        "\n",
        "# Make predictions on the test set\n",
        "y_pred = rf_model.predict(X_test)\n",
        "\n",
        "# 1. Generate the confusion matrix\n",
        "conf_matrix = confusion_matrix(y_test, y_pred)\n",
        "print(\"Confusion Matrix:\")\n",
        "print(conf_matrix)\n",
        "\n",
        "# Plot the confusion matrix\n",
        "plt.figure(figsize=(8, 6))\n",
        "sns.heatmap(conf_matrix, annot=True, fmt='d', cmap='Blues', xticklabels=['Not Repaid', 'Repaid'], yticklabels=['Not Repaid', 'Repaid'])\n",
        "plt.title('Confusion Matrix')\n",
        "plt.xlabel('Predicted')\n",
        "plt.ylabel('Actual')\n",
        "plt.show()\n",
        "\n",
        "# 2. Generate the classification report\n",
        "class_report = classification_report(y_test, y_pred)\n",
        "print(\"Classification Report:\")\n",
        "print(class_report)\n"
      ],
      "metadata": {
        "id": "jKKuVsYQOmm1"
      },
      "execution_count": null,
      "outputs": []
    }
  ]
}