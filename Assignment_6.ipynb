{
  "nbformat": 4,
  "nbformat_minor": 0,
  "metadata": {
    "colab": {
      "provenance": [],
      "authorship_tag": "ABX9TyMSzbb1RdvZvOtZP7TmhRrN",
      "include_colab_link": true
    },
    "kernelspec": {
      "name": "python3",
      "display_name": "Python 3"
    },
    "language_info": {
      "name": "python"
    }
  },
  "cells": [
    {
      "cell_type": "markdown",
      "metadata": {
        "id": "view-in-github",
        "colab_type": "text"
      },
      "source": [
        "<a href=\"https://colab.research.google.com/github/ChityalaRahul/23CSBTB39-40/blob/main/Assignment_6.ipynb\" target=\"_parent\"><img src=\"https://colab.research.google.com/assets/colab-badge.svg\" alt=\"Open In Colab\"/></a>"
      ]
    },
    {
      "cell_type": "markdown",
      "source": [
        "Part 1 – Import the required Python, Pandas, Matplotlib, Seaborn packages.\n",
        "[CO1]\n",
        "1. Load the classified dataset into a dataframe using pandas\n",
        "2. Check the data types of each feature(column) in the dataset.\n",
        "3. Generate a summary of the dataset for min, max, stddev,\n",
        "quartile vales for 25%,50%,75%,90%,\n",
        "4. List the names of columns/features in the dataset\n",
        "5. Scale the features using StandardScaler and transform the data"
      ],
      "metadata": {
        "id": "gcnOiowwZNKX"
      }
    },
    {
      "cell_type": "code",
      "execution_count": null,
      "metadata": {
        "id": "E1FaDmMaZGub"
      },
      "outputs": [],
      "source": [
        "import pandas as pd\n",
        "import numpy as np\n",
        "import matplotlib.pyplot as plt\n",
        "import seaborn as sns\n",
        "from sklearn.preprocessing import StandardScaler\n",
        "df = pd.read_csv('Classified_Data.csv')\n",
        "print(df.head())\n",
        "print(\"\\nData types:\\n\", df.dtypes)\n",
        "summary = df.describe(percentiles=[.25, .5, .75, .90])\n",
        "print(\"\\nSummary statistics:\\n\", summary)\n",
        "column_names = df.columns.tolist()\n",
        "print(\"\\nColumn names:\", column_names)\n",
        "features = df.iloc[:, :-1]\n",
        "target = df.iloc[:, -1]\n",
        "scaler = StandardScaler()\n",
        "scaled_features = scaler.fit_transform(features)\n",
        "scaled_df = pd.DataFrame(scaled_features, columns=features.columns)\n",
        "print(\"\\nScaled features:\\n\", scaled_df.head())"
      ]
    },
    {
      "cell_type": "markdown",
      "source": [
        "Part 2 – Model training and Fit the data to Model. [CO2]\n",
        "1. Split the data generated from list created as X, Y is distributed using train test split\n",
        "function as X train, Y train, X test, Y test\n",
        "2. Apply the KNN Classifier model of sklearn.neighbors import KNeighborsClassifier\n",
        "package\n",
        "3. Fit the data to the Classier Model using fit."
      ],
      "metadata": {
        "id": "Yf7CfjG1ZSQT"
      }
    },
    {
      "cell_type": "code",
      "source": [
        "from sklearn.model_selection import train_test_split\n",
        "from sklearn.neighbors import KNeighborsClassifier\n",
        "\n",
        "# 1. Split the data\n",
        "X = scaled_data\n",
        "y = data['target_column']  # Replace 'target_column' with the name of your target column\n",
        "X_train, X_test, y_train, y_test = train_test_split(X, y, test_size=0.2, random_state=42)  # Adjust test_size as needed\n",
        "\n",
        "# 2. Apply the KNN Classifier model\n",
        "knn = KNeighborsClassifier(n_neighbors=5)  # Adjust n_neighbors as needed\n",
        "\n",
        "# 3. Fit the data to the Classifier Model\n",
        "knn.fit(X_train, y_train)\n"
      ],
      "metadata": {
        "id": "rzEpBq8CZV3U"
      },
      "execution_count": null,
      "outputs": []
    },
    {
      "cell_type": "markdown",
      "source": [
        "1. Generate the confusion matrix to estimate the correction among features\n",
        "2. Generate the classification report using classification report\n",
        "1\n"
      ],
      "metadata": {
        "id": "MZEEmLAkZZG7"
      }
    },
    {
      "cell_type": "code",
      "source": [
        "\n",
        "from sklearn.metrics import confusion_matrix, classification_report\n",
        "\n",
        "# 1. Generate the confusion matrix\n",
        "y_pred = knn.predict(X_test)\n",
        "cm = confusion_matrix(y_test, y_pred)\n",
        "print(\"Confusion Matrix:\")\n",
        "print(cm)\n",
        "\n",
        "# 2. Generate the classification report\n",
        "cr = classification_report(y_test, y_pred)\n",
        "print(\"\\nClassification Report:\")\n",
        "print(cr)\n"
      ],
      "metadata": {
        "id": "l3h_sZgoZZmI"
      },
      "execution_count": null,
      "outputs": []
    }
  ]
}